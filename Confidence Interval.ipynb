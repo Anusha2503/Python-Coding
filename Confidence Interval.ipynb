{
 "cells": [
  {
   "cell_type": "markdown",
   "id": "b90624a0",
   "metadata": {},
   "source": [
    "## Estimation and Confidence"
   ]
  },
  {
   "cell_type": "markdown",
   "id": "c8675d18",
   "metadata": {},
   "source": [
    "## a. Build 99% Confidence Interval Using Sample Standard Deviation\n",
    "\n",
    "Assuming the sample is representative of the population, construct a 99% confidence interval for the mean number of characters printed before the print-head fails using the sample standard deviation. Explain the steps you take and the rationale behind using the t-distribution for this task.\n"
   ]
  },
  {
   "cell_type": "code",
   "execution_count": 10,
   "id": "6fb3ed2a",
   "metadata": {},
   "outputs": [],
   "source": [
    "import math\n",
    "from scipy import stats"
   ]
  },
  {
   "cell_type": "code",
   "execution_count": 15,
   "id": "fc419ca1",
   "metadata": {},
   "outputs": [],
   "source": [
    "data=1.13, 1.55, 1.43, 0.92, 1.25, 1.36, 1.32, 0.85, 1.07, 1.48, 1.20, 1.33, 1.18, 1.22, 1.29\n",
    "n=15\n",
    "df=n-1\n",
    "confidence_level=0.99"
   ]
  },
  {
   "cell_type": "code",
   "execution_count": 16,
   "id": "eab90b6d",
   "metadata": {},
   "outputs": [
    {
     "name": "stdout",
     "output_type": "stream",
     "text": [
      "mean: 1.24\n"
     ]
    }
   ],
   "source": [
    "mean=sum(data)/n\n",
    "print(f\"mean: {mean:.2f}\")"
   ]
  },
  {
   "cell_type": "code",
   "execution_count": null,
   "id": "6deffb68",
   "metadata": {},
   "outputs": [
    {
     "name": "stdout",
     "output_type": "stream",
     "text": [
      "std: 0.19\n"
     ]
    }
   ],
   "source": [
    "std=math.sqrt(sum([(x-mean)**2 for x in data])/(n-1)) #Standard deviation\n",
    "print(f\"std: {std:.2f}\")"
   ]
  },
  {
   "cell_type": "code",
   "execution_count": null,
   "id": "17f991e8",
   "metadata": {},
   "outputs": [
    {
     "name": "stdout",
     "output_type": "stream",
     "text": [
      "significance_level: 0.01\n"
     ]
    }
   ],
   "source": [
    "significance_level=1-confidence_level #alpha\n",
    "print(f\"significance_level: {significance_level:.2f}\")"
   ]
  },
  {
   "cell_type": "code",
   "execution_count": 22,
   "id": "7a4cad3d",
   "metadata": {},
   "outputs": [
    {
     "name": "stdout",
     "output_type": "stream",
     "text": [
      "t_critical: 2.98\n"
     ]
    }
   ],
   "source": [
    "t_critical=stats.t.ppf(1-(1-confidence_level)/2,df)\n",
    "print(f\"t_critical: {t_critical:.2f}\")"
   ]
  },
  {
   "cell_type": "code",
   "execution_count": 25,
   "id": "4bd12e70",
   "metadata": {},
   "outputs": [
    {
     "name": "stdout",
     "output_type": "stream",
     "text": [
      "margin: 0.05\n"
     ]
    }
   ],
   "source": [
    "margin=std/math.sqrt(n)\n",
    "print(f\"margin: {margin:.2f}\")"
   ]
  },
  {
   "cell_type": "code",
   "execution_count": 27,
   "id": "e39ce74c",
   "metadata": {},
   "outputs": [
    {
     "name": "stdout",
     "output_type": "stream",
     "text": [
      "confidence_interval: 1.09,1.39\n"
     ]
    }
   ],
   "source": [
    "confidence_t_lower=mean-t_critical*margin\n",
    "confidence_t_upper=mean+t_critical*margin\n",
    "print(f\"confidence_interval: {confidence_t_lower:.2f},{confidence_t_upper:.2f}\")"
   ]
  },
  {
   "cell_type": "markdown",
   "id": "13c6bffa",
   "metadata": {},
   "source": [
    "We use t_distribution here because\n",
    "\n",
    "1. The population of Std is unknown\n",
    "\n",
    "2. Sample size n=15 is small(<30)\n",
    "\n",
    "3. The t_distribution accounts for extra uncertainity is estimating the population std"
   ]
  },
  {
   "cell_type": "markdown",
   "id": "f6afbc7b",
   "metadata": {},
   "source": [
    "## b. Build 99% Confidence Interval Using Known Population Standard Deviation\n",
    "\n",
    "If it were known that the population standard deviation is 0.2 million characters, construct a 99% confidence interval for the mean number of characters printed before failure.\n",
    "\n"
   ]
  },
  {
   "cell_type": "code",
   "execution_count": 29,
   "id": "aecad0a7",
   "metadata": {},
   "outputs": [
    {
     "name": "stdout",
     "output_type": "stream",
     "text": [
      "z_critical: 2.58\n"
     ]
    }
   ],
   "source": [
    "std_known=0.2\n",
    "z_critical=stats.norm.ppf(1-(1-confidence_level)/2)\n",
    "print(f\"z_critical: {z_critical:.2f}\")"
   ]
  },
  {
   "cell_type": "code",
   "execution_count": 30,
   "id": "656ff0da",
   "metadata": {},
   "outputs": [
    {
     "name": "stdout",
     "output_type": "stream",
     "text": [
      "confidence_interval: 1.11,1.37\n"
     ]
    }
   ],
   "source": [
    "confidence_z_lower=mean-z_critical*margin\n",
    "confidence_z_upper=mean+z_critical*margin\n",
    "print(f\"confidence_interval: {confidence_z_lower:.2f},{confidence_z_upper:.2f}\")"
   ]
  },
  {
   "cell_type": "markdown",
   "id": "92334479",
   "metadata": {},
   "source": [
    "We use z-distribution here because population std is known"
   ]
  }
 ],
 "metadata": {
  "kernelspec": {
   "display_name": "Python 3",
   "language": "python",
   "name": "python3"
  },
  "language_info": {
   "codemirror_mode": {
    "name": "ipython",
    "version": 3
   },
   "file_extension": ".py",
   "mimetype": "text/x-python",
   "name": "python",
   "nbconvert_exporter": "python",
   "pygments_lexer": "ipython3",
   "version": "3.10.11"
  }
 },
 "nbformat": 4,
 "nbformat_minor": 5
}
