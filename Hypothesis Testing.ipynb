{
 "cells": [
  {
   "cell_type": "markdown",
   "id": "f9787167",
   "metadata": {},
   "source": [
    "## HYPOTHESIS TESTING"
   ]
  },
  {
   "cell_type": "markdown",
   "id": "be28e595",
   "metadata": {},
   "source": [
    "Data Provided:\n",
    "\n",
    "●\tThe theoretical weekly operating cost model: W = $1,000 + $5X\n",
    "\n",
    "●\tSample of 25 restaurants with a mean weekly cost of Rs. 3,050\n",
    "\n",
    "●\tNumber of units produced in a week (X) follows a normal distribution with a mean (μ) of 600 units and a standard deviation (σ) of 25 units\n"
   ]
  },
  {
   "cell_type": "markdown",
   "id": "49c2c0a9",
   "metadata": {},
   "source": [
    "## 1. State the Hypotheses statement:\n",
    "\n",
    "There are two Hypotheses present\n",
    "\n",
    "1. Null Hypothesis (H₀):\n",
    "It is the statement that has no effect\n",
    "\n",
    "2. Alternate Hypothesis (H₁)\n",
    "It is the hypothesis that represents what we want to test, it represents change,different \n",
    "\n",
    "Forms of Alternate Hypothesis:\n",
    "\n",
    "(i) right tailed(increase)\n",
    "(ii) left tailed(decrease)\n",
    "(iii) two tailed(difference)"
   ]
  },
  {
   "cell_type": "markdown",
   "id": "e683c509",
   "metadata": {},
   "source": [
    "In Given Data\n",
    "\n",
    "Here H₀(mu)=1000+5*600 = 4000 (Average weekly operating cost eqaul to theoritocal cost):-Weekly cost as model predicts\n",
    "\n",
    "and H₁(mu)>4000 (Average weekly operating cost is greater than theoritical cost ):-weekly cost is higher than the model predicts as per the given statements\n"
   ]
  },
  {
   "cell_type": "markdown",
   "id": "a697881e",
   "metadata": {},
   "source": [
    "## 2. Calculate the Test Statistic:\n",
    "\n",
    "Use the following formula to calculate the test statistic(z):\n",
    "where:\n",
    "\n",
    "●\tˉxˉ = sample mean weekly cost (Rs. 3,050)\n",
    "\n",
    "●\tμ = theoretical mean weekly cost according to the cost model (W = $1,000 + $5X for X = 600 units)\n",
    "\n",
    "●\tσ = 5*25 units\n",
    "\n",
    "●\tn = sample size (25 restaurants)\n"
   ]
  },
  {
   "cell_type": "markdown",
   "id": "4836bf81",
   "metadata": {},
   "source": [
    "z=x-mu/(sigma/rootn) \n",
    "\n",
    "This formula is used to calculate the test statistic"
   ]
  },
  {
   "cell_type": "code",
   "execution_count": 20,
   "id": "a5d4176d",
   "metadata": {},
   "outputs": [
    {
     "name": "stdout",
     "output_type": "stream",
     "text": [
      "-38.0\n"
     ]
    }
   ],
   "source": [
    "z=(3050-4000)/(125/pow(25,0.5))\n",
    "print(z)"
   ]
  },
  {
   "cell_type": "markdown",
   "id": "50a41017",
   "metadata": {},
   "source": [
    "## 3. Determine the Probability and compare:\n",
    "Using the alpha level of 5% (α = 0.05),\n"
   ]
  },
  {
   "cell_type": "markdown",
   "id": "ff2e6378",
   "metadata": {},
   "source": [
    "Here it is one sided(right tailed) because mu>4000\n",
    "\n",
    "for z=-38(upper tail)\n",
    " p=1-z\n",
    " here z=-38 that too negative so we consider p as 1 approximately\n",
    " p=1\n",
    "\n",
    " using alpha=0.05\n",
    "\n",
    " critical z for one sided(right tailed,alpha=0.05) is calculated as\n",
    "\n",
    " z_critical=1-cdf(1-alpha)"
   ]
  },
  {
   "cell_type": "code",
   "execution_count": 7,
   "id": "7194f948",
   "metadata": {},
   "outputs": [],
   "source": [
    "import pandas as pd\n",
    "import scipy\n",
    "from scipy import stats\n",
    "import numpy as np"
   ]
  },
  {
   "cell_type": "code",
   "execution_count": 19,
   "id": "92a30802",
   "metadata": {},
   "outputs": [
    {
     "name": "stdout",
     "output_type": "stream",
     "text": [
      "1.0\n"
     ]
    }
   ],
   "source": [
    "z = -38\n",
    "p_value = 1 - stats.norm.cdf(z) \n",
    "print(p_value)"
   ]
  },
  {
   "cell_type": "code",
   "execution_count": null,
   "id": "b4b06276",
   "metadata": {},
   "outputs": [
    {
     "name": "stdout",
     "output_type": "stream",
     "text": [
      "1.6448536269514722\n"
     ]
    }
   ],
   "source": [
    "alpha=0.05\n",
    "z_critical=stats.norm.ppf(1-alpha) #Here ppf represents percent point function(inverse of cdf) it is only for right tailed\n",
    "print(z_critical)"
   ]
  },
  {
   "cell_type": "markdown",
   "id": "2dffbdf8",
   "metadata": {},
   "source": [
    "## 4. Make a Decision:\n",
    "\n",
    "Compare the test statistic with the critical value to decide whether to reject the null hypothesis.\n"
   ]
  },
  {
   "cell_type": "code",
   "execution_count": 21,
   "id": "d51cede7",
   "metadata": {},
   "outputs": [
    {
     "name": "stdout",
     "output_type": "stream",
     "text": [
      "We do not reject null hypothesis\n"
     ]
    }
   ],
   "source": [
    "if z>z_critical:\n",
    "    print('We Reject Null Hypothesis')\n",
    "else:\n",
    "    print('We do not reject null hypothesis')"
   ]
  },
  {
   "cell_type": "markdown",
   "id": "2457910c",
   "metadata": {},
   "source": [
    "Here z=-38 and z_critical=1.644, -38<1.644 hence we do not reject null hypothesis\n",
    "\n",
    "If z>z_critical (we reject null hypothesis)\n",
    "If z<z_critical (we do not reject null hypothesis)"
   ]
  },
  {
   "cell_type": "markdown",
   "id": "bbd154df",
   "metadata": {},
   "source": [
    "## 5. Conclusion:\n",
    "\n",
    "Based on the decision in step 4, conclude whether there is strong evidence to support the restaurant owners' claim that the weekly operating costs are higher than the model suggests.\n"
   ]
  },
  {
   "cell_type": "markdown",
   "id": "9409f668",
   "metadata": {},
   "source": [
    "There is not sufficient evidence to support the restaurant to support the restaurant owners' claim that the weekly operating costs are higher than the model suggests.\n",
    "\n",
    "Infact the sample mean(3050) is much lower than the model mean(4000),so the data do not show the higher costs"
   ]
  }
 ],
 "metadata": {
  "kernelspec": {
   "display_name": "Python 3",
   "language": "python",
   "name": "python3"
  },
  "language_info": {
   "codemirror_mode": {
    "name": "ipython",
    "version": 3
   },
   "file_extension": ".py",
   "mimetype": "text/x-python",
   "name": "python",
   "nbconvert_exporter": "python",
   "pygments_lexer": "ipython3",
   "version": "3.10.11"
  }
 },
 "nbformat": 4,
 "nbformat_minor": 5
}
