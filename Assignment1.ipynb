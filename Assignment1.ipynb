{
 "cells": [
  {
   "cell_type": "markdown",
   "id": "9b760244",
   "metadata": {},
   "source": [
    "Exercise 1: Prime Numbers\n",
    "Write a Python program that checks whether a given number is prime or not. A prime number is a natural number greater than 1 that has no positive divisors other than 1 and itself      "
   ]
  },
  {
   "cell_type": "code",
   "execution_count": null,
   "id": "1759ad0a",
   "metadata": {},
   "outputs": [],
   "source": [
    "n=int(input(\"Enter the number\"))\n",
    "\n",
    "for i in range(2,n):\n",
    "    if n%i==0:\n",
    "        print(\"Number is not prime\")\n",
    "        break\n",
    "else:\n",
    "    print(\"Number is prime\")      "
   ]
  },
  {
   "cell_type": "markdown",
   "id": "b78a3fc0",
   "metadata": {},
   "source": [
    "Exercise 2: Product of Random Numbers\n",
    "Develop a Python program that generates two random numbers and asks the user to enter the product of these numbers. The program should then check if the user's answer is correct and display an appropriate message"
   ]
  },
  {
   "cell_type": "code",
   "execution_count": 24,
   "id": "3c2e13dd",
   "metadata": {},
   "outputs": [
    {
     "name": "stdout",
     "output_type": "stream",
     "text": [
      "correct! the product of 3 and 10 is true\n",
      "30\n"
     ]
    }
   ],
   "source": [
    "import random\n",
    "num1=random.randint(1,10)\n",
    "num2=random.randint(1,10)\n",
    "\n",
    "product=int(input(f\"Enter the product of {num1} and {num2} to check it is correct or not\"))\n",
    "actual_product=num1*num2\n",
    "\n",
    "if product==actual_product:\n",
    "    print(f\"correct! the product of {num1} and {num2} is true\")\n",
    "else:\n",
    "    print(f\"wrong! the product of {num1} and {num2} is false\")\n",
    "    \n",
    "print(actual_product)"
   ]
  },
  {
   "cell_type": "markdown",
   "id": "339fbcb1",
   "metadata": {},
   "source": [
    "Exercise 3: Squares of Even/Odd Numbers\n",
    "Create a Python script that prints the squares of all even or odd numbers within the range of 100 to 200. Choose either even or odd numbers and document your choice in the code."
   ]
  },
  {
   "cell_type": "code",
   "execution_count": 26,
   "id": "0e757d42",
   "metadata": {},
   "outputs": [
    {
     "name": "stdout",
     "output_type": "stream",
     "text": [
      "10000\n",
      "10404\n",
      "10816\n",
      "11236\n",
      "11664\n",
      "12100\n",
      "12544\n",
      "12996\n",
      "13456\n",
      "13924\n",
      "14400\n",
      "14884\n",
      "15376\n",
      "15876\n",
      "16384\n",
      "16900\n",
      "17424\n",
      "17956\n",
      "18496\n",
      "19044\n",
      "19600\n",
      "20164\n",
      "20736\n",
      "21316\n",
      "21904\n",
      "22500\n",
      "23104\n",
      "23716\n",
      "24336\n",
      "24964\n",
      "25600\n",
      "26244\n",
      "26896\n",
      "27556\n",
      "28224\n",
      "28900\n",
      "29584\n",
      "30276\n",
      "30976\n",
      "31684\n",
      "32400\n",
      "33124\n",
      "33856\n",
      "34596\n",
      "35344\n",
      "36100\n",
      "36864\n",
      "37636\n",
      "38416\n",
      "39204\n",
      "40000\n"
     ]
    }
   ],
   "source": [
    "for i in range(100,201):\n",
    "    if i%2==0:\n",
    "        print(i**2)"
   ]
  },
  {
   "cell_type": "markdown",
   "id": "432ec1be",
   "metadata": {},
   "source": [
    "Exercise 4:\n",
    "✅ Problem Statement (Question): Hospital Billing System\n",
    "A hospital charges its patients based on the following:\n",
    "•\tRoom charges per day: ₹2,000\n",
    "•\tDoctor consultation fee (flat): ₹1,500\n",
    "•\tLab test charges: Based on the number of tests taken. Each test costs ₹300\n",
    "•\tMedicine charges: Total cost of medicines provided\n",
    "•\tDiscount: If the total bill (before discount) exceeds ₹10,000, a 10% discount is applied\n",
    "Write a Python program to calculate the final bill for a patient who:\n",
    "•\tStayed for 4 days\n",
    "•\tHad 3 lab tests\n",
    "•\tHad medicine charges of ₹2,400"
   ]
  },
  {
   "cell_type": "code",
   "execution_count": 63,
   "id": "cc580db0",
   "metadata": {},
   "outputs": [
    {
     "name": "stdout",
     "output_type": "stream",
     "text": [
      "Total Bill: 12800\n",
      "Bill after discount 11520.0\n"
     ]
    }
   ],
   "source": [
    "room_charges=2000\n",
    "consultation_fees=1500\n",
    "lab_fees=300\n",
    "Medicine_charges=2400\n",
    "\n",
    "Total=room_charges*4+consultation_fees+lab_fees*3+Medicine_charges\n",
    "print(\"Total Bill:\",Total)\n",
    "\n",
    "if Total>10000:\n",
    "    discount=Total*0.10\n",
    "    print(\"Bill after discount\",Total-discount)\n",
    "else:\n",
    "    print(Total)"
   ]
  }
 ],
 "metadata": {
  "kernelspec": {
   "display_name": "base",
   "language": "python",
   "name": "python3"
  },
  "language_info": {
   "codemirror_mode": {
    "name": "ipython",
    "version": 3
   },
   "file_extension": ".py",
   "mimetype": "text/x-python",
   "name": "python",
   "nbconvert_exporter": "python",
   "pygments_lexer": "ipython3",
   "version": "3.11.5"
  }
 },
 "nbformat": 4,
 "nbformat_minor": 5
}
